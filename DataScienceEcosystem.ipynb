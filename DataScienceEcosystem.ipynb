{
 "cells": [
  {
   "cell_type": "markdown",
   "id": "457b7860-cbbb-4ea3-b7b4-fd7304a3b857",
   "metadata": {},
   "source": [
    "# Data Science Tools and Ecosystem"
   ]
  },
  {
   "cell_type": "markdown",
   "id": "fd389ad3-3df1-4b8e-a6bc-247756ae3ff7",
   "metadata": {},
   "source": [
    "In this notebook, Data Science Tools and Ecosystem are summarized."
   ]
  },
  {
   "cell_type": "markdown",
   "id": "489b75c7-b492-463c-8a8a-faab608cf83a",
   "metadata": {},
   "source": [
    "In this notebook, Data Science Tools and Ecosystem are summarized."
   ]
  },
  {
   "cell_type": "markdown",
   "id": "39fa619e-8e7d-4a4f-93c3-4741b2d7c192",
   "metadata": {},
   "source": [
    "Some of the popular languages that Data Scientists use are:\n",
    "1. Python\n",
    "2. R\n",
    "3. Julia\n",
    "4. Java"
   ]
  },
  {
   "cell_type": "markdown",
   "id": "aa572510-d28c-4779-a6c7-18f77d72e8fc",
   "metadata": {},
   "source": [
    "Some of the commonly used libraries used by Data Scientists include:\n",
    "1. Numpy\n",
    "2. Pandas\n",
    "3. Scikitlearn\n",
    "4. Keras"
   ]
  },
  {
   "cell_type": "markdown",
   "id": "575fd309-24fb-47cd-9370-1426b3cde292",
   "metadata": {},
   "source": [
    "Data Science Tools\n",
    "1. Jupyter Notebooks\n",
    "2. Spyder\n",
    "3. R Studio"
   ]
  },
  {
   "cell_type": "code",
   "execution_count": 1,
   "id": "afda2b25-8a67-4466-b41e-2f9845d1e4f9",
   "metadata": {},
   "outputs": [
    {
     "name": "stdout",
     "output_type": "stream",
     "text": [
      "17\n"
     ]
    }
   ],
   "source": [
    "## This a simple arithmetic expression to mutiply then add integer\n",
    "print((3*4)+5)"
   ]
  },
  {
   "cell_type": "code",
   "execution_count": 2,
   "id": "90e7a57b-b058-49d7-a699-8e6d1c948e9a",
   "metadata": {},
   "outputs": [
    {
     "data": {
      "text/plain": [
       "3.3333333333333335"
      ]
     },
     "execution_count": 2,
     "metadata": {},
     "output_type": "execute_result"
    }
   ],
   "source": [
    "#This will convert 200 minutes to hours by diving by 60\n",
    "200/60"
   ]
  },
  {
   "cell_type": "markdown",
   "id": "4c59d0e1-d03b-450f-9916-cd6d124f5f79",
   "metadata": {},
   "source": [
    " **Objectives:**\n",
    "- List tools used by data scientists \n",
    "- List languages used by data scientists \n",
    "- Perform arithmetic function in Jupyter Notebook using Python \n",
    "- Use of Markdowns -Create & Rename .ipynb files"
   ]
  },
  {
   "cell_type": "markdown",
   "id": "dca6939b-3092-4df8-9da5-eb4a4374baf9",
   "metadata": {},
   "source": [
    "## Author\n",
    "Suhani Shrivastava"
   ]
  }
 ],
 "metadata": {
  "kernelspec": {
   "display_name": "Python 3 (ipykernel)",
   "language": "python",
   "name": "python3"
  },
  "language_info": {
   "codemirror_mode": {
    "name": "ipython",
    "version": 3
   },
   "file_extension": ".py",
   "mimetype": "text/x-python",
   "name": "python",
   "nbconvert_exporter": "python",
   "pygments_lexer": "ipython3",
   "version": "3.11.7"
  }
 },
 "nbformat": 4,
 "nbformat_minor": 5
}
